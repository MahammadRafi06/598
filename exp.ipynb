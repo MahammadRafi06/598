{
 "cells": [
  {
   "cell_type": "code",
   "execution_count": 1,
   "metadata": {},
   "outputs": [],
   "source": [
    "from azure.ai.ml import MLClient\n",
    "from azure.identity import DefaultAzureCredential\n",
    "from azure.ai.ml.entities import Data\n",
    "from azure.ai.ml.constants import AssetTypes\n",
    "\n",
    "# authenticate\n",
    "credential = DefaultAzureCredential()\n",
    "\n",
    "# Get a handle to the workspace\n",
    "ml_client = MLClient(\n",
    "    credential=credential,\n",
    "    subscription_id=\"fa87b981-3938-42ad-8bc6-6970be4e7a96\",\n",
    "    resource_group_name=\"project\",\n",
    "    workspace_name=\"589project\",\n",
    ")"
   ]
  },
  {
   "cell_type": "code",
   "execution_count": null,
   "metadata": {},
   "outputs": [],
   "source": [
    "import uuid\n",
    "from azure.ai.ml.entities import ManagedOnlineEndpoint\n",
    "from azure.ai.ml.entities import ManagedOnlineDeployment\n",
    "registered_model_name = \"598\"\n",
    "\n",
    "online_endpoint_name = \"premiumservice-endpoint-\" + str(uuid.uuid4())[:8]\n",
    "latest_model_version = \"1\"\n",
    "\n",
    "try:\n",
    "    endpoint = ml_client.online_endpoints.get(name=online_endpoint_name)\n",
    "except Exception as e:\n",
    "\n",
    "    endpoint = ManagedOnlineEndpoint(\n",
    "        name=online_endpoint_name,\n",
    "        description=\"This is an online endpoint for Carplab Premium Services\",\n",
    "        auth_mode=\"key\",\n",
    "        tags={\n",
    "            \"Production\": \"PremiumServices\",\n",
    "        },\n",
    "    )\n",
    "\n",
    "    endpoint = ml_client.online_endpoints.begin_create_or_update(endpoint).result()\n",
    "\n",
    "    model = ml_client.models.get(name=registered_model_name, version=latest_model_version)\n",
    "\n",
    "    blue_deployment = ManagedOnlineDeployment(\n",
    "        name=\"blue\",\n",
    "        endpoint_name=online_endpoint_name,\n",
    "        model=model,\n",
    "        instance_type=\"Standard_D2as_v4\",\n",
    "        instance_count=1,\n",
    "    )\n",
    "    blue_deployment = ml_client.online_deployments.begin_create_or_update(\n",
    "        blue_deployment\n",
    "    ).result()\n",
    "\n",
    "    endpoint.traffic = {\"blue\": 100}\n",
    "    ml_client.online_endpoints.begin_create_or_update(endpoint).result()"
   ]
  },
  {
   "cell_type": "code",
   "execution_count": 11,
   "metadata": {},
   "outputs": [],
   "source": [
    "import pandas as pd\n",
    "patient_df = pd.read_csv('data/Patient.csv')\n",
    "transactions_df = pd.read_csv('data/Transactions.csv')\n",
    "patient_details = {}\n",
    "transaction ={}\n",
    "trans = transactions_df[transactions_df['Transaction_ID']==1005].to_dict(orient='records')\n",
    "for tran in trans:\n",
    "    for key, val in tran.items():\n",
    "        transaction[key] = val\n",
    "pats = patient_df[patient_df['Patient_ID']==transaction['Patient_ID']].to_dict(orient='records')\n",
    "for pat in pats:\n",
    "    for key, val in pat.items():\n",
    "        patient_details[key] = val"
   ]
  },
  {
   "cell_type": "code",
   "execution_count": 12,
   "metadata": {},
   "outputs": [
    {
     "data": {
      "text/plain": [
       "{'Transaction_ID': 1005,\n",
       " 'Patient_ID': 5,\n",
       " 'Premieum': 1,\n",
       " 'age': 62,\n",
       " 'sex': 0,\n",
       " 'cp': 0,\n",
       " 'trestbps': 138,\n",
       " 'chol': 294,\n",
       " 'fbs': 1,\n",
       " 'restecg': 1,\n",
       " 'thalach': 106,\n",
       " 'exang': 0,\n",
       " 'oldpeak': 1.9,\n",
       " 'slope': 1,\n",
       " 'ca': 3,\n",
       " 'thal': 2}"
      ]
     },
     "execution_count": 12,
     "metadata": {},
     "output_type": "execute_result"
    }
   ],
   "source": [
    "transaction"
   ]
  },
  {
   "cell_type": "code",
   "execution_count": 13,
   "metadata": {},
   "outputs": [
    {
     "data": {
      "text/plain": [
       "{'Patient_ID': 5,\n",
       " 'Name': 'Gunther G.',\n",
       " 'DOB': '6/17/82',\n",
       " 'Sex': 'M',\n",
       " 'Address': '100th Boulevard, Shoreline, WA.',\n",
       " 'Phone': 2340000571,\n",
       " 'Provider': 'Dr. Richard Geller',\n",
       " 'P_Clinic': 'Heart Hope Clinic',\n",
       " 'P_Address': '184th St., Kirkland, WA.',\n",
       " 'P_Phone': 2340000584}"
      ]
     },
     "execution_count": 13,
     "metadata": {},
     "output_type": "execute_result"
    }
   ],
   "source": [
    "patient_details"
   ]
  },
  {
   "cell_type": "code",
   "execution_count": 35,
   "metadata": {},
   "outputs": [],
   "source": [
    "data = {\n",
    "\"input_data\": {\n",
    "    \"columns\": [\n",
    "        \"age\",\n",
    "        \"sex\",\n",
    "        \"cp\",\n",
    "        \"trestbps\",\n",
    "        \"chol\",\n",
    "        \"fbs\",\n",
    "        \"restecg\",\n",
    "        \"thalach\",\n",
    "        \"exang\",\n",
    "        \"oldpeak\",\n",
    "        \"slope\",\n",
    "        \"ca\",\n",
    "        \"thal\"\n",
    "    ],\n",
    "    \"data\": [\n",
    "        [transaction['age'], transaction['sex'], transaction['cp'], transaction['trestbps'], transaction['chol'], transaction['fbs'], \n",
    "         transaction['restecg'], transaction['thalach'], transaction['exang'], transaction['oldpeak'], transaction['slope'], \n",
    "         transaction['ca'], transaction['thal']]\n",
    "    ]\n",
    "}\n",
    "    }"
   ]
  },
  {
   "cell_type": "code",
   "execution_count": 36,
   "metadata": {},
   "outputs": [
    {
     "data": {
      "text/plain": [
       "{'input_data': {'columns': ['age',\n",
       "   'sex',\n",
       "   'cp',\n",
       "   'trestbps',\n",
       "   'chol',\n",
       "   'fbs',\n",
       "   'restecg',\n",
       "   'thalach',\n",
       "   'exang',\n",
       "   'oldpeak',\n",
       "   'slope',\n",
       "   'ca',\n",
       "   'thal'],\n",
       "  'data': [[52, 1, 0, 125, 212, 0, 1, 168, 0, 1.0, 2, 2, 3]]}}"
      ]
     },
     "execution_count": 36,
     "metadata": {},
     "output_type": "execute_result"
    }
   ],
   "source": [
    "data"
   ]
  }
 ],
 "metadata": {
  "kernelspec": {
   "display_name": "mlstudio",
   "language": "python",
   "name": "python3"
  },
  "language_info": {
   "codemirror_mode": {
    "name": "ipython",
    "version": 3
   },
   "file_extension": ".py",
   "mimetype": "text/x-python",
   "name": "python",
   "nbconvert_exporter": "python",
   "pygments_lexer": "ipython3",
   "version": "3.10.15"
  }
 },
 "nbformat": 4,
 "nbformat_minor": 2
}
